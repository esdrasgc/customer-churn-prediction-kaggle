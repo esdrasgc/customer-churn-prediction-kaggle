{
 "cells": [
  {
   "cell_type": "code",
   "execution_count": 1,
   "id": "ebfae3bf",
   "metadata": {},
   "outputs": [],
   "source": [
    "import pathlib\n",
    "import polars as pl"
   ]
  },
  {
   "cell_type": "code",
   "execution_count": 2,
   "id": "994b623c",
   "metadata": {},
   "outputs": [],
   "source": [
    "path_data = pathlib.Path().cwd().parent / \"data\" \n",
    "\n",
    "df = pl.read_csv(path_data / 'train.csv')"
   ]
  },
  {
   "cell_type": "code",
   "execution_count": 3,
   "id": "2ab6d187",
   "metadata": {},
   "outputs": [
    {
     "data": {
      "text/plain": [
       "(8000, 17)"
      ]
     },
     "execution_count": 3,
     "metadata": {},
     "output_type": "execute_result"
    }
   ],
   "source": [
    "df.shape"
   ]
  },
  {
   "cell_type": "code",
   "execution_count": 4,
   "id": "111cd2c0",
   "metadata": {},
   "outputs": [
    {
     "data": {
      "text/html": [
       "<div><style>\n",
       ".dataframe > thead > tr,\n",
       ".dataframe > tbody > tr {\n",
       "  text-align: right;\n",
       "  white-space: pre-wrap;\n",
       "}\n",
       "</style>\n",
       "<small>shape: (9, 18)</small><table border=\"1\" class=\"dataframe\"><thead><tr><th>statistic</th><th>Customer_ID</th><th>Age</th><th>Gender</th><th>Location</th><th>Subscription_Type</th><th>Account_Age_Months</th><th>Monthly_Spending</th><th>Total_Usage_Hours</th><th>Support_Calls</th><th>Late_Payments</th><th>Streaming_Usage</th><th>Discount_Used</th><th>Satisfaction_Score</th><th>Last_Interaction_Type</th><th>Complaint_Tickets</th><th>Promo_Opted_In</th><th>Churn</th></tr><tr><td>str</td><td>f64</td><td>f64</td><td>str</td><td>str</td><td>str</td><td>f64</td><td>f64</td><td>f64</td><td>f64</td><td>f64</td><td>f64</td><td>f64</td><td>f64</td><td>str</td><td>f64</td><td>f64</td><td>f64</td></tr></thead><tbody><tr><td>&quot;count&quot;</td><td>8000.0</td><td>8000.0</td><td>&quot;8000&quot;</td><td>&quot;8000&quot;</td><td>&quot;8000&quot;</td><td>8000.0</td><td>8000.0</td><td>8000.0</td><td>8000.0</td><td>8000.0</td><td>8000.0</td><td>8000.0</td><td>8000.0</td><td>&quot;8000&quot;</td><td>8000.0</td><td>8000.0</td><td>8000.0</td></tr><tr><td>&quot;null_count&quot;</td><td>0.0</td><td>0.0</td><td>&quot;0&quot;</td><td>&quot;0&quot;</td><td>&quot;0&quot;</td><td>0.0</td><td>0.0</td><td>0.0</td><td>0.0</td><td>0.0</td><td>0.0</td><td>0.0</td><td>0.0</td><td>&quot;0&quot;</td><td>0.0</td><td>0.0</td><td>0.0</td></tr><tr><td>&quot;mean&quot;</td><td>5000.5</td><td>43.54225</td><td>null</td><td>null</td><td>null</td><td>30.163875</td><td>104.804641</td><td>254.326625</td><td>4.45325</td><td>1.9925</td><td>49.798</td><td>49.42825</td><td>5.462375</td><td>null</td><td>1.9705</td><td>0.49975</td><td>0.313125</td></tr><tr><td>&quot;std&quot;</td><td>2309.54541</td><td>14.909242</td><td>null</td><td>null</td><td>null</td><td>16.942407</td><td>54.643255</td><td>140.855632</td><td>2.88892</td><td>1.39971</td><td>28.965468</td><td>28.662071</td><td>2.879865</td><td>null</td><td>1.413375</td><td>0.500031</td><td>0.463794</td></tr><tr><td>&quot;min&quot;</td><td>1001.0</td><td>18.0</td><td>&quot;Female&quot;</td><td>&quot;California&quot;</td><td>&quot;Basic&quot;</td><td>1.0</td><td>10.09</td><td>10.0</td><td>0.0</td><td>0.0</td><td>0.0</td><td>0.0</td><td>1.0</td><td>&quot;Negative&quot;</td><td>0.0</td><td>0.0</td><td>0.0</td></tr><tr><td>&quot;25%&quot;</td><td>3001.0</td><td>31.0</td><td>null</td><td>null</td><td>null</td><td>15.0</td><td>57.64</td><td>133.0</td><td>2.0</td><td>1.0</td><td>24.0</td><td>25.0</td><td>3.0</td><td>null</td><td>1.0</td><td>0.0</td><td>0.0</td></tr><tr><td>&quot;50%&quot;</td><td>5001.0</td><td>44.0</td><td>null</td><td>null</td><td>null</td><td>30.0</td><td>104.71</td><td>257.0</td><td>4.0</td><td>2.0</td><td>51.0</td><td>50.0</td><td>5.0</td><td>null</td><td>2.0</td><td>0.0</td><td>0.0</td></tr><tr><td>&quot;75%&quot;</td><td>7000.0</td><td>57.0</td><td>null</td><td>null</td><td>null</td><td>45.0</td><td>151.69</td><td>376.0</td><td>7.0</td><td>3.0</td><td>75.0</td><td>74.0</td><td>8.0</td><td>null</td><td>3.0</td><td>1.0</td><td>1.0</td></tr><tr><td>&quot;max&quot;</td><td>9000.0</td><td>69.0</td><td>&quot;Male&quot;</td><td>&quot;Texas&quot;</td><td>&quot;Premium&quot;</td><td>59.0</td><td>199.94</td><td>499.0</td><td>9.0</td><td>4.0</td><td>99.0</td><td>99.0</td><td>10.0</td><td>&quot;Positive&quot;</td><td>4.0</td><td>1.0</td><td>1.0</td></tr></tbody></table></div>"
      ],
      "text/plain": [
       "shape: (9, 18)\n",
       "┌────────────┬────────────┬───────────┬────────┬───┬────────────┬───────────┬───────────┬──────────┐\n",
       "│ statistic  ┆ Customer_I ┆ Age       ┆ Gender ┆ … ┆ Last_Inter ┆ Complaint ┆ Promo_Opt ┆ Churn    │\n",
       "│ ---        ┆ D          ┆ ---       ┆ ---    ┆   ┆ action_Typ ┆ _Tickets  ┆ ed_In     ┆ ---      │\n",
       "│ str        ┆ ---        ┆ f64       ┆ str    ┆   ┆ e          ┆ ---       ┆ ---       ┆ f64      │\n",
       "│            ┆ f64        ┆           ┆        ┆   ┆ ---        ┆ f64       ┆ f64       ┆          │\n",
       "│            ┆            ┆           ┆        ┆   ┆ str        ┆           ┆           ┆          │\n",
       "╞════════════╪════════════╪═══════════╪════════╪═══╪════════════╪═══════════╪═══════════╪══════════╡\n",
       "│ count      ┆ 8000.0     ┆ 8000.0    ┆ 8000   ┆ … ┆ 8000       ┆ 8000.0    ┆ 8000.0    ┆ 8000.0   │\n",
       "│ null_count ┆ 0.0        ┆ 0.0       ┆ 0      ┆ … ┆ 0          ┆ 0.0       ┆ 0.0       ┆ 0.0      │\n",
       "│ mean       ┆ 5000.5     ┆ 43.54225  ┆ null   ┆ … ┆ null       ┆ 1.9705    ┆ 0.49975   ┆ 0.313125 │\n",
       "│ std        ┆ 2309.54541 ┆ 14.909242 ┆ null   ┆ … ┆ null       ┆ 1.413375  ┆ 0.500031  ┆ 0.463794 │\n",
       "│ min        ┆ 1001.0     ┆ 18.0      ┆ Female ┆ … ┆ Negative   ┆ 0.0       ┆ 0.0       ┆ 0.0      │\n",
       "│ 25%        ┆ 3001.0     ┆ 31.0      ┆ null   ┆ … ┆ null       ┆ 1.0       ┆ 0.0       ┆ 0.0      │\n",
       "│ 50%        ┆ 5001.0     ┆ 44.0      ┆ null   ┆ … ┆ null       ┆ 2.0       ┆ 0.0       ┆ 0.0      │\n",
       "│ 75%        ┆ 7000.0     ┆ 57.0      ┆ null   ┆ … ┆ null       ┆ 3.0       ┆ 1.0       ┆ 1.0      │\n",
       "│ max        ┆ 9000.0     ┆ 69.0      ┆ Male   ┆ … ┆ Positive   ┆ 4.0       ┆ 1.0       ┆ 1.0      │\n",
       "└────────────┴────────────┴───────────┴────────┴───┴────────────┴───────────┴───────────┴──────────┘"
      ]
     },
     "execution_count": 4,
     "metadata": {},
     "output_type": "execute_result"
    }
   ],
   "source": [
    "df.describe()"
   ]
  },
  {
   "cell_type": "code",
   "execution_count": 5,
   "id": "995d7bd4",
   "metadata": {},
   "outputs": [],
   "source": [
    "# Variáveis demográficas\n",
    "demographic_vars = ['Age', 'Gender', 'Location']\n",
    "\n",
    "# Variáveis categóricas\n",
    "categorical_vars = [\n",
    "    'Gender',\n",
    "    'Location', \n",
    "    'Subscription_Type',\n",
    "    'Last_Interaction_Type'\n",
    "]\n",
    "\n",
    "# Variáveis binárias (podem ser tratadas como categóricas ou numéricas)\n",
    "binary_vars = [\n",
    "    'Promo_Opted_In',  # 0/1\n",
    "    'Churn'            # 0/1 - Target variable\n",
    "]\n",
    "\n",
    "# Variáveis numéricas contínuas\n",
    "continuous_vars = [\n",
    "    'Age',\n",
    "    'Account_Age_Months',\n",
    "    'Monthly_Spending',\n",
    "    'Total_Usage_Hours',\n",
    "    'Streaming_Usage',     # Porcentagem (0-99%)\n",
    "    'Discount_Used',       # Porcentagem (0-99%)\n",
    "    'Satisfaction_Score'   # Escala 1-10\n",
    "]\n",
    "\n",
    "# Variáveis numéricas discretas (contagens)\n",
    "discrete_vars = [\n",
    "    'Support_Calls',       # Número de chamadas\n",
    "    'Late_Payments',       # Número de pagamentos atrasados\n",
    "    'Complaint_Tickets'    # Número de tickets de reclamação\n",
    "]\n",
    "\n",
    "# Todas as variáveis numéricas (contínuas + discretas + binárias)\n",
    "numeric_vars = continuous_vars + discrete_vars + binary_vars\n",
    "\n",
    "# Variável alvo\n",
    "target_var = 'Churn'\n",
    "\n",
    "# Variáveis explicativas (features)\n",
    "feature_vars = [col for col in df.columns if col not in ['Customer_ID', 'Churn']]"
   ]
  },
  {
   "cell_type": "code",
   "execution_count": 6,
   "id": "82d3f1f4",
   "metadata": {},
   "outputs": [],
   "source": [
    "import matplotlib.pyplot as plt\n",
    "import seaborn as sns\n",
    "import numpy as np\n",
    "from typing import List, Optional\n",
    "\n",
    "# Configuração de estilo\n",
    "plt.style.use('seaborn-v0_8')\n",
    "sns.set_palette(\"husl\")"
   ]
  },
  {
   "cell_type": "code",
   "execution_count": 11,
   "id": "76a9a05e",
   "metadata": {},
   "outputs": [],
   "source": [
    "import os\n",
    "import polars as pl\n",
    "\n",
    "# ==> força backend não interativo ANTES de importar pyplot\n",
    "import matplotlib\n",
    "matplotlib.use(\"Agg\")\n",
    "import matplotlib.pyplot as plt\n",
    "\n",
    "from explor_plots_funcs import (\n",
    "    plot_target_distribution,\n",
    "    plot_categorical_analysis,\n",
    "    plot_numerical_distributions,\n",
    "    plot_boxplots_by_target,\n",
    "    plot_correlation_matrix,\n",
    "    plot_pairplot_sample\n",
    ")\n",
    "\n",
    "def _save_matplotlib_figure(fig, path_png: str, path_pdf: str | None = None, dpi: int = 150):\n",
    "    try:\n",
    "        fig.tight_layout()\n",
    "    except Exception:\n",
    "        pass\n",
    "    fig.savefig(path_png, bbox_inches=\"tight\", dpi=dpi)\n",
    "    if path_pdf:\n",
    "        fig.savefig(path_pdf, bbox_inches=\"tight\")\n",
    "    plt.close(fig)\n",
    "\n",
    "def _try_save_returned_object(obj, basename: str, output_dir: str) -> bool:\n",
    "    \"\"\"Tenta salvar baseado no objeto retornado. Retorna True se salvou algo.\"\"\"\n",
    "    if obj is None:\n",
    "        return False\n",
    "\n",
    "    # 1) matplotlib Figure (tem savefig)\n",
    "    if hasattr(obj, \"savefig\"):\n",
    "        _save_matplotlib_figure(obj, os.path.join(output_dir, f\"{basename}.png\"),\n",
    "                                     os.path.join(output_dir, f\"{basename}.pdf\"))\n",
    "        return True\n",
    "\n",
    "    # 2) matplotlib Axes\n",
    "    if hasattr(obj, \"get_figure\"):\n",
    "        try:\n",
    "            fig = obj.get_figure()\n",
    "            if fig is not None:\n",
    "                _save_matplotlib_figure(fig, os.path.join(output_dir, f\"{basename}.png\"),\n",
    "                                             os.path.join(output_dir, f\"{basename}.pdf\"))\n",
    "                return True\n",
    "        except Exception:\n",
    "            pass\n",
    "\n",
    "    # 3) seaborn FacetGrid/PairGrid (.fig)\n",
    "    if hasattr(obj, \"fig\"):\n",
    "        fig = getattr(obj, \"fig\", None)\n",
    "        if fig is not None:\n",
    "            _save_matplotlib_figure(fig, os.path.join(output_dir, f\"{basename}.png\"),\n",
    "                                         os.path.join(output_dir, f\"{basename}.pdf\"))\n",
    "            return True\n",
    "\n",
    "    # 4) objetos com .figure\n",
    "    if hasattr(obj, \"figure\"):\n",
    "        fig = getattr(obj, \"figure\", None)\n",
    "        if fig is not None:\n",
    "            _save_matplotlib_figure(fig, os.path.join(output_dir, f\"{basename}.png\"),\n",
    "                                         os.path.join(output_dir, f\"{basename}.pdf\"))\n",
    "            return True\n",
    "\n",
    "    # 5) Plotly Figure\n",
    "    try:\n",
    "        import plotly.graph_objs as go  # noqa\n",
    "        if hasattr(obj, \"to_image\") or hasattr(obj, \"write_image\"):\n",
    "            # write_image é preferível (precisa kaleido instalado)\n",
    "            png_path = os.path.join(output_dir, f\"{basename}.png\")\n",
    "            pdf_path = os.path.join(output_dir, f\"{basename}.pdf\")\n",
    "            if hasattr(obj, \"write_image\"):\n",
    "                obj.write_image(png_path, scale=2)\n",
    "                obj.write_image(pdf_path)\n",
    "            else:\n",
    "                # fallback com to_image\n",
    "                png_bytes = obj.to_image(format=\"png\", scale=2)\n",
    "                with open(png_path, \"wb\") as f:\n",
    "                    f.write(png_bytes)\n",
    "            return True\n",
    "    except Exception:\n",
    "        pass\n",
    "\n",
    "    return False\n",
    "\n",
    "def _run_and_save(func, fname_base: str, output_dir: str, *args, **kwargs):\n",
    "    \"\"\"\n",
    "    Executa uma função de plot, tenta salvar objeto retornado;\n",
    "    se nada for salvo, salva TODAS as novas figuras matplotlib criadas.\n",
    "    \"\"\"\n",
    "    # Snapshot das figuras abertas antes\n",
    "    before = set(plt.get_fignums())\n",
    "\n",
    "    # Executa a função e tenta salvar o retorno\n",
    "    ret = func(*args, **kwargs)\n",
    "    saved_any = _try_save_returned_object(ret, fname_base, output_dir)\n",
    "\n",
    "    # Se não salvou via retorno, tenta capturar novas figuras criadas\n",
    "    after = set(plt.get_fignums())\n",
    "    new_fig_nums = sorted(list(after - before))\n",
    "\n",
    "    if not saved_any and new_fig_nums:\n",
    "        # Se criou mais de uma figura, salva enumerando\n",
    "        if len(new_fig_nums) == 1:\n",
    "            fig = plt.figure(new_fig_nums[0])\n",
    "            _save_matplotlib_figure(\n",
    "                fig,\n",
    "                os.path.join(output_dir, f\"{fname_base}.png\"),\n",
    "                os.path.join(output_dir, f\"{fname_base}.pdf\"),\n",
    "            )\n",
    "            saved_any = True\n",
    "        else:\n",
    "            for i, num in enumerate(new_fig_nums, start=1):\n",
    "                fig = plt.figure(num)\n",
    "                _save_matplotlib_figure(\n",
    "                    fig,\n",
    "                    os.path.join(output_dir, f\"{fname_base}_{i:02d}.png\"),\n",
    "                    os.path.join(output_dir, f\"{fname_base}_{i:02d}.pdf\"),\n",
    "                )\n",
    "            saved_any = True\n",
    "\n",
    "    # Último fallback: gcf (evita branco se não houve nada de novo)\n",
    "    if not saved_any:\n",
    "        try:\n",
    "            fig = plt.gcf()\n",
    "            _save_matplotlib_figure(\n",
    "                fig,\n",
    "                os.path.join(output_dir, f\"{fname_base}.png\"),\n",
    "                os.path.join(output_dir, f\"{fname_base}.pdf\"),\n",
    "            )\n",
    "            saved_any = True\n",
    "        except Exception:\n",
    "            pass\n",
    "\n",
    "    return saved_any\n",
    "\n",
    "def comprehensive_eda(\n",
    "    df: pl.DataFrame, \n",
    "    categorical_vars: list[str], \n",
    "    numeric_vars: list[str],\n",
    "    output_dir: str = \"eda_plots\"\n",
    "):\n",
    "    \"\"\"Executa análise exploratória completa e salva os gráficos (PNG e PDF).\"\"\"\n",
    "    print(\"=== ANÁLISE EXPLORATÓRIA DE DADOS ===\\n\")\n",
    "    os.makedirs(output_dir, exist_ok=True)\n",
    "\n",
    "    # 1. Distribuição do target\n",
    "    print(\"1. Distribuição da Variável Target\")\n",
    "    _run_and_save(plot_target_distribution, \"01_target_distribution\", output_dir, df)\n",
    "\n",
    "    # 2. Análise das variáveis categóricas\n",
    "    print(\"\\n2. Análise das Variáveis Categóricas\")\n",
    "    _run_and_save(plot_categorical_analysis, \"02_categorical_analysis\", output_dir, df, categorical_vars)\n",
    "\n",
    "    # 3. Distribuições numéricas\n",
    "    print(\"\\n3. Distribuições das Variáveis Numéricas\")\n",
    "    _run_and_save(plot_numerical_distributions, \"03_numeric_distributions\", output_dir, df, numeric_vars)\n",
    "\n",
    "    # 4. Boxplots por Target\n",
    "    print(\"\\n4. Boxplots por Target\")\n",
    "    _run_and_save(plot_boxplots_by_target, \"04_boxplots_by_target\", output_dir, df, numeric_vars)\n",
    "\n",
    "    # 5. Matriz de correlação\n",
    "    print(\"\\n5. Matriz de Correlação\")\n",
    "    _run_and_save(plot_correlation_matrix, \"05_correlation_matrix\", output_dir, df, numeric_vars)\n",
    "\n",
    "    # 6. Pairplot de variáveis selecionadas\n",
    "    print(\"\\n6. Pairplot - Variáveis Importantes\")\n",
    "    important_vars = ['Age', 'Monthly_Spending', 'Satisfaction_Score', 'Support_Calls', 'Late_Payments']\n",
    "    _run_and_save(plot_pairplot_sample, \"06_pairplot\", output_dir, df, important_vars)\n",
    "\n",
    "    print(f\"\\n=== ANÁLISE CONCLUÍDA ===\\nPlots salvos em: {os.path.abspath(output_dir)}\")"
   ]
  },
  {
   "cell_type": "code",
   "execution_count": 12,
   "id": "0197e9d8",
   "metadata": {},
   "outputs": [
    {
     "data": {
      "text/plain": [
       "<Axes: >"
      ]
     },
     "execution_count": 12,
     "metadata": {},
     "output_type": "execute_result"
    }
   ],
   "source": [
    "import missingno as msno\n",
    "\n",
    "# Assuming 'df' is your DataFrame\n",
    "msno.matrix(df.to_pandas())\n"
   ]
  },
  {
   "cell_type": "code",
   "execution_count": 13,
   "id": "fe553859",
   "metadata": {},
   "outputs": [
    {
     "name": "stdout",
     "output_type": "stream",
     "text": [
      "<class 'pandas.core.frame.DataFrame'>\n",
      "RangeIndex: 8000 entries, 0 to 7999\n",
      "Data columns (total 17 columns):\n",
      " #   Column                 Non-Null Count  Dtype  \n",
      "---  ------                 --------------  -----  \n",
      " 0   Customer_ID            8000 non-null   int64  \n",
      " 1   Age                    8000 non-null   int64  \n",
      " 2   Gender                 8000 non-null   object \n",
      " 3   Location               8000 non-null   object \n",
      " 4   Subscription_Type      8000 non-null   object \n",
      " 5   Account_Age_Months     8000 non-null   int64  \n",
      " 6   Monthly_Spending       8000 non-null   float64\n",
      " 7   Total_Usage_Hours      8000 non-null   int64  \n",
      " 8   Support_Calls          8000 non-null   int64  \n",
      " 9   Late_Payments          8000 non-null   int64  \n",
      " 10  Streaming_Usage        8000 non-null   int64  \n",
      " 11  Discount_Used          8000 non-null   int64  \n",
      " 12  Satisfaction_Score     8000 non-null   int64  \n",
      " 13  Last_Interaction_Type  8000 non-null   object \n",
      " 14  Complaint_Tickets      8000 non-null   int64  \n",
      " 15  Promo_Opted_In         8000 non-null   int64  \n",
      " 16  Churn                  8000 non-null   int64  \n",
      "dtypes: float64(1), int64(12), object(4)\n",
      "memory usage: 1.0+ MB\n"
     ]
    }
   ],
   "source": [
    "df.to_pandas().info()"
   ]
  },
  {
   "cell_type": "code",
   "execution_count": 14,
   "id": "847b9bee",
   "metadata": {},
   "outputs": [
    {
     "name": "stdout",
     "output_type": "stream",
     "text": [
      "=== ANÁLISE EXPLORATÓRIA DE DADOS ===\n",
      "\n",
      "1. Distribuição da Variável Target\n",
      "Taxa de Churn: 31.31%\n",
      "Total de clientes: 8000\n",
      "Clientes que fizeram churn: 2505\n",
      "Clientes que permaneceram: 5495\n"
     ]
    },
    {
     "name": "stderr",
     "output_type": "stream",
     "text": [
      "c:\\Users\\leand\\Documents\\GitHub\\curstomer-churn-prediction-kaggle\\notebooks\\explor_plots_funcs.py:33: UserWarning: FigureCanvasAgg is non-interactive, and thus cannot be shown\n",
      "  plt.show()\n"
     ]
    },
    {
     "name": "stdout",
     "output_type": "stream",
     "text": [
      "\n",
      "2. Análise das Variáveis Categóricas\n"
     ]
    },
    {
     "name": "stderr",
     "output_type": "stream",
     "text": [
      "c:\\Users\\leand\\Documents\\GitHub\\curstomer-churn-prediction-kaggle\\notebooks\\explor_plots_funcs.py:81: UserWarning: FigureCanvasAgg is non-interactive, and thus cannot be shown\n",
      "  plt.show()\n"
     ]
    },
    {
     "name": "stdout",
     "output_type": "stream",
     "text": [
      "\n",
      "3. Distribuições das Variáveis Numéricas\n"
     ]
    },
    {
     "name": "stderr",
     "output_type": "stream",
     "text": [
      "c:\\Users\\leand\\Documents\\GitHub\\curstomer-churn-prediction-kaggle\\.venv\\Lib\\site-packages\\scipy\\stats\\_axis_nan_policy.py:579: RuntimeWarning: Precision loss occurred in moment calculation due to catastrophic cancellation. This occurs when the data are nearly identical. Results may be unreliable.\n",
      "  res = hypotest_fun_out(*samples, **kwds)\n",
      "c:\\Users\\leand\\Documents\\GitHub\\curstomer-churn-prediction-kaggle\\notebooks\\explor_plots_funcs.py:127: UserWarning: FigureCanvasAgg is non-interactive, and thus cannot be shown\n",
      "  plt.show()\n"
     ]
    },
    {
     "name": "stdout",
     "output_type": "stream",
     "text": [
      "\n",
      "4. Boxplots por Target\n"
     ]
    },
    {
     "name": "stderr",
     "output_type": "stream",
     "text": [
      "c:\\Users\\leand\\Documents\\GitHub\\curstomer-churn-prediction-kaggle\\notebooks\\explor_plots_funcs.py:180: UserWarning: FigureCanvasAgg is non-interactive, and thus cannot be shown\n",
      "  plt.show()\n"
     ]
    },
    {
     "name": "stdout",
     "output_type": "stream",
     "text": [
      "\n",
      "5. Matriz de Correlação\n",
      "\n",
      "Top 10 correlações com Churn:\n",
      "Churn                 1.000000\n",
      "Discount_Used         0.020400\n",
      "Satisfaction_Score    0.019819\n",
      "Promo_Opted_In        0.017182\n",
      "Late_Payments         0.016602\n",
      "Age                   0.016458\n",
      "Support_Calls         0.012913\n",
      "Complaint_Tickets     0.010890\n",
      "Monthly_Spending      0.009202\n",
      "Streaming_Usage       0.008729\n",
      "Name: Churn, dtype: float64\n"
     ]
    },
    {
     "name": "stderr",
     "output_type": "stream",
     "text": [
      "c:\\Users\\leand\\Documents\\GitHub\\curstomer-churn-prediction-kaggle\\notebooks\\explor_plots_funcs.py:149: UserWarning: FigureCanvasAgg is non-interactive, and thus cannot be shown\n",
      "  plt.show()\n"
     ]
    },
    {
     "name": "stdout",
     "output_type": "stream",
     "text": [
      "\n",
      "6. Pairplot - Variáveis Importantes\n"
     ]
    },
    {
     "name": "stderr",
     "output_type": "stream",
     "text": [
      "c:\\Users\\leand\\Documents\\GitHub\\curstomer-churn-prediction-kaggle\\notebooks\\explor_plots_funcs.py:205: UserWarning: FigureCanvasAgg is non-interactive, and thus cannot be shown\n",
      "  plt.show()\n"
     ]
    },
    {
     "name": "stdout",
     "output_type": "stream",
     "text": [
      "\n",
      "=== ANÁLISE CONCLUÍDA ===\n",
      "Plots salvos em: c:\\Users\\leand\\Documents\\GitHub\\curstomer-churn-prediction-kaggle\\notebooks\\plots_eda\n"
     ]
    }
   ],
   "source": [
    "# Executar análise completa\n",
    "path_plots = pathlib.Path().cwd() / \"plots_eda\"\n",
    "\n",
    "comprehensive_eda(df, output_dir=path_plots, categorical_vars=categorical_vars, numeric_vars=numeric_vars)"
   ]
  },
  {
   "cell_type": "markdown",
   "id": "bb8ae103",
   "metadata": {},
   "source": [
    "### Conclusões da analise exploratoria\n",
    "\n",
    "1. O dataset não tem dados faltantes, então para o treinamento, não foi necessario imputar informações em valores nulos. Talvez seja necessario revisitar já que o dataset de teste pode ter dados nulos. \n",
    "2. A correlação entre as váriaveis de forma independente não tem uma boa correlação com o churn, então teremos que apostar em um conjunto de relações para tentar predizer o churn.\n",
    "3. Existe uma quantidade satisfatoria de dados de cada categoria da target (churn) então técnicas de para equilibrar as classes não devem ser necessarias.\n",
    "4. Tem poucas variaveis numericas e sem outliers explicitos\n"
   ]
  },
  {
   "cell_type": "code",
   "execution_count": null,
   "id": "f8c59aed",
   "metadata": {},
   "outputs": [],
   "source": []
  }
 ],
 "metadata": {
  "kernelspec": {
   "display_name": "curstomer-churn (3.11.11)",
   "language": "python",
   "name": "python3"
  },
  "language_info": {
   "codemirror_mode": {
    "name": "ipython",
    "version": 3
   },
   "file_extension": ".py",
   "mimetype": "text/x-python",
   "name": "python",
   "nbconvert_exporter": "python",
   "pygments_lexer": "ipython3",
   "version": "3.11.11"
  }
 },
 "nbformat": 4,
 "nbformat_minor": 5
}
